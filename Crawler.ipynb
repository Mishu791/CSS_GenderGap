{
 "cells": [
  {
   "cell_type": "code",
   "execution_count": 1,
   "metadata": {},
   "outputs": [],
   "source": [
    "import requests \n",
    "from bs4 import BeautifulSoup\n",
    "import string \n",
    "from IPython.display import clear_output"
   ]
  },
  {
   "cell_type": "code",
   "execution_count": null,
   "metadata": {},
   "outputs": [],
   "source": [
    "id_list = []\n",
    "with open('artist.txt', encoding= \"utf8\") as f:\n",
    "    for line in f:\n",
    "        ID= line.split()\n",
    "        id_list.append(ID[1])"
   ]
  },
  {
   "cell_type": "code",
   "execution_count": null,
   "metadata": {},
   "outputs": [],
   "source": [
    "def remove_punctuation(value):\n",
    "    result= \"\"\n",
    "    for c in value:\n",
    "        if c not in string.punctuation:\n",
    "            result= result+c\n",
    "    return result"
   ]
  },
  {
   "cell_type": "code",
   "execution_count": null,
   "metadata": {},
   "outputs": [],
   "source": [
    "artistData = open('artistData.txt', 'a', encoding= \"utf8\")\n",
    "artistData.write(\"'ID','Type','Gender','Genre'\\n\")\n",
    "j=0\n",
    "\n",
    "for ID in id_list:\n",
    "    j= j+1\n",
    "    clear_output(wait=True)\n",
    "    \n",
    "    url= "
   ]
  }
 ],
 "metadata": {
  "kernelspec": {
   "display_name": "Python 3",
   "language": "python",
   "name": "python3"
  },
  "language_info": {
   "codemirror_mode": {
    "name": "ipython",
    "version": 3
   },
   "file_extension": ".py",
   "mimetype": "text/x-python",
   "name": "python",
   "nbconvert_exporter": "python",
   "pygments_lexer": "ipython3",
   "version": "3.7.3"
  }
 },
 "nbformat": 4,
 "nbformat_minor": 2
}
