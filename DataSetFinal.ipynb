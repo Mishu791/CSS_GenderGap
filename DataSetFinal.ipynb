{
 "cells": [
  {
   "cell_type": "code",
   "execution_count": 16,
   "metadata": {},
   "outputs": [],
   "source": [
    "# Importing Libraries\n",
    "import pandas as pd\n",
    "import numpy as np\n",
    "import matplotlib.pyplot as plt\n",
    "from collections import Counter\n",
    "from scipy import stats "
   ]
  },
  {
   "cell_type": "code",
   "execution_count": 17,
   "metadata": {},
   "outputs": [
    {
     "data": {
      "text/plain": [
       "4083"
      ]
     },
     "execution_count": 17,
     "metadata": {},
     "output_type": "execute_result"
    }
   ],
   "source": [
    "# Preparing dataset from MusicBrainz\n",
    "musicbrainz= pd.read_csv('musicbrainz_artist.txt', sep='|')\n",
    "musicbrainz= musicbrainz.drop(columns=['ID'])\n",
    "musicbrainz= musicbrainz[['Name','Gender','Genre','Type','Birthday']]\n",
    "musicbrainz['Name']= musicbrainz['Name'].str.lower()\n",
    "musicbrainz = musicbrainz[musicbrainz['Type'] == ' Person']\n",
    "\n",
    "#Filtered by Electronic Music Genre \n",
    "genre_list = open('genrelist.txt','r')\n",
    "lines = genre_list.readlines()\n",
    "lines = lines[0]\n",
    "genrelist = lines.split(',')\n",
    "genrelist = list(set(genrelist))\n",
    "genre_list.close()\n",
    "\n",
    "musicbrainz= musicbrainz[musicbrainz['Genre'].str.contains('|'.join(genrelist))]\n",
    "len(musicbrainz)"
   ]
  },
  {
   "cell_type": "code",
   "execution_count": 18,
   "metadata": {},
   "outputs": [],
   "source": [
    "# Preparing DataSet for Songkick all gigs\n",
    "songkick= pd.read_csv('songkick_all_gigs_extended_version.tsv', sep='\t')\n",
    "songkick= songkick.drop(columns=['ID'])\n",
    "songkick['Year'] = pd.DatetimeIndex(songkick['Date']).year\n",
    "songkick= songkick.drop(columns=['Date','City','Venue'])\n",
    "GigCount = songkick.groupby(['Name']).count()\n",
    "\n",
    "\n",
    "GigCount = GigCount.drop(columns=['Country'])\n",
    "GigCount = GigCount.rename(index=str, columns={'Year': 'GigCount'})"
   ]
  },
  {
   "cell_type": "code",
   "execution_count": 19,
   "metadata": {},
   "outputs": [],
   "source": [
    "# Adding all countries for each artists\n",
    "Countries = songkick.groupby('Name')['Country'].apply(','.join)\n",
    "Countries = Countries.to_frame()"
   ]
  },
  {
   "cell_type": "code",
   "execution_count": 20,
   "metadata": {},
   "outputs": [],
   "source": [
    "songkick['Year'] = songkick['Year'].apply(str)\n",
    "ConcertYears = songkick.groupby('Name')['Year'].apply(','.join)\n",
    "ConcertYears = ConcertYears.to_frame()"
   ]
  },
  {
   "cell_type": "code",
   "execution_count": 21,
   "metadata": {},
   "outputs": [],
   "source": [
    "songkick = pd.merge(songkick, Countries, on='Name',how='inner')\n",
    "#songkick.head()"
   ]
  },
  {
   "cell_type": "code",
   "execution_count": 22,
   "metadata": {},
   "outputs": [],
   "source": [
    "songkick = pd.merge(songkick, GigCount, on='Name',how='inner')\n",
    "#songkick.head()"
   ]
  },
  {
   "cell_type": "code",
   "execution_count": 23,
   "metadata": {},
   "outputs": [],
   "source": [
    "songkick = pd.merge(songkick, ConcertYears, on='Name',how='inner')\n",
    "#songkick.head()"
   ]
  },
  {
   "cell_type": "code",
   "execution_count": 24,
   "metadata": {},
   "outputs": [],
   "source": [
    "songkick= songkick.drop(columns=['Country_x','Year_x'])  #'index' remove \n",
    "songkick= songkick.rename(index=str, columns={'Country_y': 'Countries', 'Year_y':'ConcertYears'})\n",
    "songkick= songkick.drop_duplicates()\n",
    "songkick = songkick.reset_index()\n",
    "#songkick.head()"
   ]
  },
  {
   "cell_type": "code",
   "execution_count": 25,
   "metadata": {},
   "outputs": [],
   "source": [
    "# Merging musicbrainz and songkick datasets on the basis of 'Name'\n",
    "\n",
    "merge1= pd.merge(songkick, musicbrainz, on='Name',how='inner')\n",
    "merge1= merge1.drop(columns=['index','Type','Genre'])\n",
    "merge1.to_csv('Merge1.csv', index= True, sep= ',') #saved to merge1.csv\n",
    "#merge1.head()\n",
    "\n",
    "# giving the numbers of total gigs\n",
    "# sum(merge1.GigCount)\n"
   ]
  },
  {
   "cell_type": "code",
   "execution_count": 26,
   "metadata": {},
   "outputs": [],
   "source": [
    "# sum(merge1.GigCount)"
   ]
  },
  {
   "cell_type": "code",
   "execution_count": 27,
   "metadata": {},
   "outputs": [],
   "source": [
    "# Preparing dataset for releases merged dataset\n",
    "release= pd.read_csv('releases_merged.csv', sep=',')\n",
    "release=release.drop(columns=['artist_id','release_id','label_name','Genre', 'Release_Name'])\n",
    "release.rename(columns={'Year':'Release_Year'}, inplace=True)\n",
    "\n",
    "release['Release_Year'] = release['Release_Year'].apply(str)\n",
    "releaseYear = release.groupby('Name')['Release_Year'].apply(','.join)\n",
    "releaseYear = releaseYear.to_frame()\n",
    "\n",
    "AlbumCount = release.groupby(['Name']).count()\n",
    "AlbumCount = AlbumCount.drop(columns=['Release_Year'])\n",
    "AlbumCount = AlbumCount.rename(index=str, columns={'Price': 'AlbumCount'})\n",
    "\n",
    "avgPrice = release.groupby('Name')['Price'].mean()\n",
    "avgPrice = avgPrice.to_frame()"
   ]
  },
  {
   "cell_type": "code",
   "execution_count": 28,
   "metadata": {},
   "outputs": [],
   "source": [
    "# Making new release dataset\n",
    "release = pd.merge(release, releaseYear, on='Name',how='inner')\n",
    "release = pd.merge(release, AlbumCount, on='Name',how='inner')\n",
    "release = pd.merge(release, avgPrice, on='Name',how='inner')\n",
    "\n",
    "# Dropping Price_x, Release_Year_x\n",
    "release = release.drop(columns=['Price_x', 'Release_Year_x'])\n",
    "release = release.drop_duplicates()\n",
    "release = release.rename(index=str, columns={'Release_Year_y': 'Release_Years', 'Price_y':'AvgPrice'})\n",
    "\n",
    "#release.head()"
   ]
  },
  {
   "cell_type": "code",
   "execution_count": 29,
   "metadata": {},
   "outputs": [],
   "source": [
    "# Making Final Merged Dataset\n",
    "finalMerge= pd.merge(merge1, release, on='Name', how='inner')\n",
    "finalMerge.to_csv('FinalMerge.csv', index= True, sep= ',')\n",
    "\n",
    "# Male-Female Separate Dataset\n",
    "#male = finalMerge[finalMerge['Gender'] == ' Male']\n",
    "#female = finalMerge[finalMerge['Gender'] == ' Female']"
   ]
  },
  {
   "cell_type": "code",
   "execution_count": 30,
   "metadata": {},
   "outputs": [
    {
     "data": {
      "text/plain": [
       "549"
      ]
     },
     "execution_count": 30,
     "metadata": {},
     "output_type": "execute_result"
    }
   ],
   "source": [
    "len(finalMerge)"
   ]
  }
 ],
 "metadata": {
  "kernelspec": {
   "display_name": "Python 3",
   "language": "python",
   "name": "python3"
  },
  "language_info": {
   "codemirror_mode": {
    "name": "ipython",
    "version": 3
   },
   "file_extension": ".py",
   "mimetype": "text/x-python",
   "name": "python",
   "nbconvert_exporter": "python",
   "pygments_lexer": "ipython3",
   "version": "3.7.3"
  }
 },
 "nbformat": 4,
 "nbformat_minor": 2
}
