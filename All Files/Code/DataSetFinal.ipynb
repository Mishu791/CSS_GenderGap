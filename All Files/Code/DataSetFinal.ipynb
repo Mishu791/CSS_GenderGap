{
 "cells": [
  {
   "cell_type": "code",
   "execution_count": 17,
   "metadata": {},
   "outputs": [],
   "source": [
    "# Importing Libraries\n",
    "import pandas as pd\n",
    "import numpy as np\n",
    "import matplotlib.pyplot as plt\n",
    "from collections import Counter\n",
    "from scipy import stats "
   ]
  },
  {
   "cell_type": "code",
   "execution_count": 18,
   "metadata": {},
   "outputs": [],
   "source": [
    "# Preparing dataset from MusicBrainz\n",
    "musicbrainz= pd.read_csv('musicbrainz_artist.txt', sep='|')\n",
    "musicbrainz= musicbrainz.drop(columns=['ID'])\n",
    "musicbrainz= musicbrainz[['Name','Gender','Genre','Type','Birthday']]\n",
    "musicbrainz['Name']= musicbrainz['Name'].str.lower()\n",
    "musicbrainz = musicbrainz[musicbrainz['Type'] == ' Person']\n",
    "\n",
    "# Filtered by Electronic Music Genre \n",
    "genre_list = open('genrelist.txt','r')\n",
    "lines = genre_list.readlines()\n",
    "lines = lines[0]\n",
    "genrelist = lines.split(',')\n",
    "genre_list.close()\n",
    "\n",
    "musicbrainz= musicbrainz[musicbrainz['Genre'].str.contains('|'.join(genrelist))]\n",
    "#musicbrainz.head()\n",
    "\n",
    "#len(musicbrainz)"
   ]
  },
  {
   "cell_type": "code",
   "execution_count": 4,
   "metadata": {},
   "outputs": [],
   "source": [
    "# Preparing DataSet for Songkick all gigs\n",
    "songkick= pd.read_csv('songkick_all_gigs_extended_version.tsv', sep='\t')\n",
    "songkick= songkick.drop(columns=['ID'])\n",
    "songkick['Year'] = pd.DatetimeIndex(songkick['Date']).year\n",
    "songkick= songkick.drop(columns=['Date','City','Venue'])\n",
    "GigCount = songkick.groupby(['Name']).count()\n",
    "\n",
    "\n",
    "GigCount = GigCount.drop(columns=['Country'])\n",
    "GigCount = GigCount.rename(index=str, columns={'Year': 'GigCount'})"
   ]
  },
  {
   "cell_type": "code",
   "execution_count": 5,
   "metadata": {},
   "outputs": [],
   "source": [
    "# Adding all countries for each artists\n",
    "Countries = songkick.groupby('Name')['Country'].apply(','.join)\n",
    "Countries = Countries.to_frame()"
   ]
  },
  {
   "cell_type": "code",
   "execution_count": 6,
   "metadata": {},
   "outputs": [],
   "source": [
    "songkick['Year'] = songkick['Year'].apply(str)\n",
    "ConcertYears = songkick.groupby('Name')['Year'].apply(','.join)\n",
    "ConcertYears = ConcertYears.to_frame()"
   ]
  },
  {
   "cell_type": "code",
   "execution_count": 7,
   "metadata": {},
   "outputs": [],
   "source": [
    "songkick = pd.merge(songkick, Countries, on='Name',how='inner')\n",
    "#songkick.head()"
   ]
  },
  {
   "cell_type": "code",
   "execution_count": 8,
   "metadata": {},
   "outputs": [],
   "source": [
    "songkick = pd.merge(songkick, GigCount, on='Name',how='inner')\n",
    "#songkick.head()"
   ]
  },
  {
   "cell_type": "code",
   "execution_count": 9,
   "metadata": {},
   "outputs": [],
   "source": [
    "songkick = pd.merge(songkick, ConcertYears, on='Name',how='inner')\n",
    "#songkick.head()"
   ]
  },
  {
   "cell_type": "code",
   "execution_count": 10,
   "metadata": {},
   "outputs": [],
   "source": [
    "songkick= songkick.drop(columns=['Country_x','Year_x'])  #'index' remove \n",
    "songkick= songkick.rename(index=str, columns={'Country_y': 'Countries', 'Year_y':'ConcertYears'})\n",
    "songkick= songkick.drop_duplicates()\n",
    "songkick = songkick.reset_index()\n",
    "#songkick.head()"
   ]
  },
  {
   "cell_type": "code",
   "execution_count": 11,
   "metadata": {},
   "outputs": [],
   "source": [
    "# Merging musicbrainz and songkick datasets on the basis of 'Name'\n",
    "\n",
    "merge1= pd.merge(songkick, musicbrainz, on='Name',how='inner')\n",
    "merge1= merge1.drop(columns=['index','Type','Genre'])\n",
    "merge1.to_csv('Merge1.csv', index= True, sep= ',') #saved to merge1.csv\n",
    "#merge1.head()\n",
    "\n",
    "# giving the numbers of total gigs\n",
    "# sum(merge1.GigCount)\n"
   ]
  },
  {
   "cell_type": "code",
   "execution_count": 12,
   "metadata": {},
   "outputs": [],
   "source": [
    "# sum(merge1.GigCount)"
   ]
  },
  {
   "cell_type": "code",
   "execution_count": 13,
   "metadata": {},
   "outputs": [
    {
     "name": "stderr",
     "output_type": "stream",
     "text": [
      "C:\\Users\\Mishu\\Anaconda3\\lib\\site-packages\\IPython\\core\\interactiveshell.py:3049: DtypeWarning: Columns (3) have mixed types. Specify dtype option on import or set low_memory=False.\n",
      "  interactivity=interactivity, compiler=compiler, result=result)\n"
     ]
    }
   ],
   "source": [
    "# Preparing dataset for releases merged dataset\n",
    "release= pd.read_csv('releases_merged.csv', sep=',')\n",
    "release=release.drop(columns=['artist_id','release_id','label_name','Genre', 'Release_Name'])\n",
    "release.rename(columns={'Year':'Release_Year'}, inplace=True)\n",
    "\n",
    "release['Release_Year'] = release['Release_Year'].apply(str)\n",
    "releaseYear = release.groupby('Name')['Release_Year'].apply(','.join)\n",
    "releaseYear = releaseYear.to_frame()\n",
    "\n",
    "AlbumCount = release.groupby(['Name']).count()\n",
    "AlbumCount = AlbumCount.drop(columns=['Release_Year'])\n",
    "AlbumCount = AlbumCount.rename(index=str, columns={'Price': 'AlbumCount'})\n",
    "\n",
    "avgPrice = release.groupby('Name')['Price'].mean()\n",
    "avgPrice = avgPrice.to_frame()"
   ]
  },
  {
   "cell_type": "code",
   "execution_count": 14,
   "metadata": {},
   "outputs": [],
   "source": [
    "# Making new release dataset\n",
    "release = pd.merge(release, releaseYear, on='Name',how='inner')\n",
    "release = pd.merge(release, AlbumCount, on='Name',how='inner')\n",
    "release = pd.merge(release, avgPrice, on='Name',how='inner')\n",
    "\n",
    "# Dropping Price_x, Release_Year_x\n",
    "release = release.drop(columns=['Price_x', 'Release_Year_x'])\n",
    "release = release.drop_duplicates()\n",
    "release = release.rename(index=str, columns={'Release_Year_y': 'Release_Years', 'Price_y':'AvgPrice'})\n",
    "\n",
    "#release.head()"
   ]
  },
  {
   "cell_type": "code",
   "execution_count": 15,
   "metadata": {},
   "outputs": [],
   "source": [
    "# Making Final Merged Dataset\n",
    "finalMerge= pd.merge(merge1, release, on='Name', how='inner')\n",
    "finalMerge.to_csv('FinalMerge.csv', index= True, sep= ',')\n",
    "\n",
    "# Male-Female Separate Dataset\n",
    "#male = finalMerge[finalMerge['Gender'] == ' Male']\n",
    "#female = finalMerge[finalMerge['Gender'] == ' Female']"
   ]
  },
  {
   "cell_type": "code",
   "execution_count": 16,
   "metadata": {},
   "outputs": [
    {
     "data": {
      "text/html": [
       "<div>\n",
       "<style scoped>\n",
       "    .dataframe tbody tr th:only-of-type {\n",
       "        vertical-align: middle;\n",
       "    }\n",
       "\n",
       "    .dataframe tbody tr th {\n",
       "        vertical-align: top;\n",
       "    }\n",
       "\n",
       "    .dataframe thead th {\n",
       "        text-align: right;\n",
       "    }\n",
       "</style>\n",
       "<table border=\"1\" class=\"dataframe\">\n",
       "  <thead>\n",
       "    <tr style=\"text-align: right;\">\n",
       "      <th></th>\n",
       "      <th>Name</th>\n",
       "      <th>Countries</th>\n",
       "      <th>GigCount</th>\n",
       "      <th>ConcertYears</th>\n",
       "      <th>Gender</th>\n",
       "      <th>Birthday</th>\n",
       "      <th>Release_Years</th>\n",
       "      <th>AlbumCount</th>\n",
       "      <th>AvgPrice</th>\n",
       "    </tr>\n",
       "  </thead>\n",
       "  <tbody>\n",
       "    <tr>\n",
       "      <th>0</th>\n",
       "      <td>oneohtrix point never</td>\n",
       "      <td>uk,us,croatia,us,us,spain,us,croatia,belgium,c...</td>\n",
       "      <td>262</td>\n",
       "      <td>2010,2016,2015,2016,2016,2018,2019,2011,2010,2...</td>\n",
       "      <td>Male</td>\n",
       "      <td>25/7/1982</td>\n",
       "      <td>2018,2018,2018,2018,2018,2016,2013,2017,2017,2...</td>\n",
       "      <td>13</td>\n",
       "      <td>5.840000</td>\n",
       "    </tr>\n",
       "    <tr>\n",
       "      <th>1</th>\n",
       "      <td>james ferraro</td>\n",
       "      <td>us,us,croatia,croatia,croatia,switzerland,us,u...</td>\n",
       "      <td>78</td>\n",
       "      <td>2010,2011,2018,2013,2013,2014,2010,2010,2015,2...</td>\n",
       "      <td>Male</td>\n",
       "      <td>7/11/1986</td>\n",
       "      <td>2013,2012,2013,2015,2013</td>\n",
       "      <td>5</td>\n",
       "      <td>13.104000</td>\n",
       "    </tr>\n",
       "    <tr>\n",
       "      <th>2</th>\n",
       "      <td>scuba</td>\n",
       "      <td>uk,croatia,mexico,uk,uk,us,us,us,france,france...</td>\n",
       "      <td>404</td>\n",
       "      <td>2016,2014,2016,2012,2013,2014,2014,2014,2014,2...</td>\n",
       "      <td>Male</td>\n",
       "      <td>\\N/\\N/\\N</td>\n",
       "      <td>2018,2018,2017,2015,2013,2011,2010,2018,2009,2...</td>\n",
       "      <td>69</td>\n",
       "      <td>6.273913</td>\n",
       "    </tr>\n",
       "    <tr>\n",
       "      <th>3</th>\n",
       "      <td>grimes</td>\n",
       "      <td>us,us,us,us,us,us,uk,canada,croatia,croatia,fi...</td>\n",
       "      <td>295</td>\n",
       "      <td>2016,2016,2016,2016,2013,2013,2012,2016,2011,2...</td>\n",
       "      <td>Female</td>\n",
       "      <td>17/3/1988</td>\n",
       "      <td>2014,2012,2012,2015,2015,2011,2010,2010,2011</td>\n",
       "      <td>9</td>\n",
       "      <td>19.520000</td>\n",
       "    </tr>\n",
       "    <tr>\n",
       "      <th>4</th>\n",
       "      <td>ryan hemsworth</td>\n",
       "      <td>us,us,us,uk,germany,us,us,denmark,croatia,us,a...</td>\n",
       "      <td>178</td>\n",
       "      <td>2016,2014,2013,2014,2014,2013,2014,2014,2018,2...</td>\n",
       "      <td>Male</td>\n",
       "      <td>\\N/\\N/\\N</td>\n",
       "      <td>2018,2013</td>\n",
       "      <td>2</td>\n",
       "      <td>3.640000</td>\n",
       "    </tr>\n",
       "  </tbody>\n",
       "</table>\n",
       "</div>"
      ],
      "text/plain": [
       "                    Name                                          Countries  \\\n",
       "0  oneohtrix point never  uk,us,croatia,us,us,spain,us,croatia,belgium,c...   \n",
       "1          james ferraro  us,us,croatia,croatia,croatia,switzerland,us,u...   \n",
       "2                  scuba  uk,croatia,mexico,uk,uk,us,us,us,france,france...   \n",
       "3                 grimes  us,us,us,us,us,us,uk,canada,croatia,croatia,fi...   \n",
       "4         ryan hemsworth  us,us,us,uk,germany,us,us,denmark,croatia,us,a...   \n",
       "\n",
       "   GigCount                                       ConcertYears   Gender  \\\n",
       "0       262  2010,2016,2015,2016,2016,2018,2019,2011,2010,2...     Male   \n",
       "1        78  2010,2011,2018,2013,2013,2014,2010,2010,2015,2...     Male   \n",
       "2       404  2016,2014,2016,2012,2013,2014,2014,2014,2014,2...     Male   \n",
       "3       295  2016,2016,2016,2016,2013,2013,2012,2016,2011,2...   Female   \n",
       "4       178  2016,2014,2013,2014,2014,2013,2014,2014,2018,2...     Male   \n",
       "\n",
       "    Birthday                                      Release_Years  AlbumCount  \\\n",
       "0  25/7/1982  2018,2018,2018,2018,2018,2016,2013,2017,2017,2...          13   \n",
       "1  7/11/1986                           2013,2012,2013,2015,2013           5   \n",
       "2   \\N/\\N/\\N  2018,2018,2017,2015,2013,2011,2010,2018,2009,2...          69   \n",
       "3  17/3/1988       2014,2012,2012,2015,2015,2011,2010,2010,2011           9   \n",
       "4   \\N/\\N/\\N                                          2018,2013           2   \n",
       "\n",
       "    AvgPrice  \n",
       "0   5.840000  \n",
       "1  13.104000  \n",
       "2   6.273913  \n",
       "3  19.520000  \n",
       "4   3.640000  "
      ]
     },
     "execution_count": 16,
     "metadata": {},
     "output_type": "execute_result"
    }
   ],
   "source": [
    "finalMerge.head()"
   ]
  },
  {
   "cell_type": "code",
   "execution_count": null,
   "metadata": {},
   "outputs": [],
   "source": [
    "# end"
   ]
  }
 ],
 "metadata": {
  "kernelspec": {
   "display_name": "Python 3",
   "language": "python",
   "name": "python3"
  },
  "language_info": {
   "codemirror_mode": {
    "name": "ipython",
    "version": 3
   },
   "file_extension": ".py",
   "mimetype": "text/x-python",
   "name": "python",
   "nbconvert_exporter": "python",
   "pygments_lexer": "ipython3",
   "version": "3.7.3"
  }
 },
 "nbformat": 4,
 "nbformat_minor": 2
}
