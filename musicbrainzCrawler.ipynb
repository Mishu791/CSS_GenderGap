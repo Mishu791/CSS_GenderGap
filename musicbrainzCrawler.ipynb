{
 "cells": [
  {
   "cell_type": "code",
   "execution_count": 1,
   "metadata": {
    "collapsed": true
   },
   "outputs": [],
   "source": [
    "import requests\n",
    "from bs4 import BeautifulSoup\n",
    "import string\n",
    "from IPython.display import clear_output\n",
    "import time"
   ]
  },
  {
   "cell_type": "code",
   "execution_count": 2,
   "metadata": {
    "collapsed": true
   },
   "outputs": [],
   "source": [
    "id_list = []\n",
    "name_list = []\n",
    "dob = []\n",
    "with open('artist.txt', encoding=\"utf8\") as f:\n",
    "    for line in f:\n",
    "        ID = line.split()\n",
    "        id_list.append(ID[1])\n",
    "with open('artist.txt', encoding=\"utf8\") as f:\n",
    "    for line in f:\n",
    "        name = line.split('\t')\n",
    "        name_list.append(name[2])\n",
    "with open('artist.txt', encoding=\"utf8\") as f:        \n",
    "    for line in f:\n",
    "        name = line.split('\t')\n",
    "        dob.append(name[6]+'/'+name[5]+'/'+name[4])"
   ]
  },
  {
   "cell_type": "code",
   "execution_count": 3,
   "metadata": {
    "collapsed": true
   },
   "outputs": [],
   "source": [
    "def remove_punctuation(value):\n",
    "    result = \"\"\n",
    "    for c in value:\n",
    "        # If char is not punctuation, add it to the result.\n",
    "        if c not in string.punctuation:\n",
    "            result += c\n",
    "    return result"
   ]
  },
  {
   "cell_type": "code",
   "execution_count": 5,
   "metadata": {},
   "outputs": [
    {
     "name": "stdout",
     "output_type": "stream",
     "text": [
      "Progress: 0.013%\n"
     ]
    }
   ],
   "source": [
    "artistData = open('artistData.txt', 'a',encoding='utf-8')\n",
    "artistData.write(\"'ID', 'Name', 'Type','Gender','DoB','Genre'\\n\") \n",
    "\n",
    "j=0\n",
    "\n",
    "for x in range(len(id_list)):\n",
    "    j+=1\n",
    "    clear_output(wait=True)\n",
    "    \n",
    "    url = 'https://musicbrainz.org/artist/' + str(id_list[x])\n",
    "    sourceCode = requests.get(url)\n",
    "    text = sourceCode.text\n",
    "    soup = BeautifulSoup (text, \"lxml\")\n",
    "    data = soup.prettify()\n",
    "\n",
    "    try:\n",
    "        indexfrom1 = data.find('gender')\n",
    "        n1=(data[indexfrom1+15:indexfrom1+25]).split()\n",
    "        gender=n1[0]\n",
    "                \n",
    "        indexfrom2 = data.find('class=\"type\"')\n",
    "        n2=(data[indexfrom2+15:indexfrom2+30]).split()\n",
    "        Type=n2[0]\n",
    "        \n",
    "        genre = []\n",
    "        indexfrom = data.find('genre-list')\n",
    "        indexto = data.find('Other tags')\n",
    "        n=(data[indexfrom+25:indexto]).split('</a>')\n",
    "        for i in n:\n",
    "            i=i.split('\">')\n",
    "            i=remove_punctuation(i[-1])\n",
    "            i=i.strip()\n",
    "            genre.append(i)\n",
    "        genre = genre[0:len(genre)-1]\n",
    "        genre = '  '.join(genre)\n",
    "    except:\n",
    "        Type = 'NaN'\n",
    "        gender = 'NaN'\n",
    "        genre = 'NaN'\n",
    "        \n",
    "    dataRow = [str(id_list[x]),', ',str(name_list[x]),', ',Type,', ', gender ,', ',str(dob[x]),', ',genre,'\\n']\n",
    "    \n",
    "    if gender != '' or Type != '' or genre != '':\n",
    "        #print(dataRow)\n",
    "        artistData.writelines(dataRow) \n",
    "    gender=''\n",
    "    Type=''\n",
    "    genre=''\n",
    "    \n",
    "    print('Progress: ' + str(round(((j/len(id_list))*100),3)) +'%')\n",
    "    \n",
    "artistData.close() "
   ]
  },
  {
   "cell_type": "code",
   "execution_count": null,
   "metadata": {
    "collapsed": true
   },
   "outputs": [],
   "source": []
  }
 ],
 "metadata": {
  "kernelspec": {
   "display_name": "Python 3",
   "language": "python",
   "name": "python3"
  },
  "language_info": {
   "codemirror_mode": {
    "name": "ipython",
    "version": 3
   },
   "file_extension": ".py",
   "mimetype": "text/x-python",
   "name": "python",
   "nbconvert_exporter": "python",
   "pygments_lexer": "ipython3",
   "version": "3.6.3"
  }
 },
 "nbformat": 4,
 "nbformat_minor": 2
}
